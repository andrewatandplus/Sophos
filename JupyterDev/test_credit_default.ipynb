{
 "cells": [
  {
   "cell_type": "code",
   "execution_count": 1,
   "metadata": {},
   "outputs": [],
   "source": [
    "import numpy as np\n",
    "import matplotlib.pyplot as plt\n",
    "import csv\n",
    "import pandas\n",
    "# Changes imports to look one folder up.\n",
    "import sys, os\n",
    "sys.path.insert(0, os.path.abspath('..'))\n",
    "from Sophos import SophosNet as sn"
   ]
  },
  {
   "cell_type": "code",
   "execution_count": 2,
   "metadata": {},
   "outputs": [
    {
     "name": "stdout",
     "output_type": "stream",
     "text": [
      "<class 'pandas.core.frame.DataFrame'>\n",
      "RangeIndex: 27000 entries, 0 to 26999\n",
      "Data columns (total 24 columns):\n",
      "LIMIT_BAL                     27000 non-null float64\n",
      "SEX                           27000 non-null int64\n",
      "EDUCATION                     27000 non-null int64\n",
      "MARRIAGE                      27000 non-null int64\n",
      "AGE                           27000 non-null int64\n",
      "PAY_0                         27000 non-null int64\n",
      "PAY_2                         27000 non-null int64\n",
      "PAY_3                         27000 non-null int64\n",
      "PAY_4                         27000 non-null int64\n",
      "PAY_5                         27000 non-null int64\n",
      "PAY_6                         27000 non-null int64\n",
      "BILL_AMT1                     27000 non-null float64\n",
      "BILL_AMT2                     27000 non-null float64\n",
      "BILL_AMT3                     27000 non-null float64\n",
      "BILL_AMT4                     27000 non-null float64\n",
      "BILL_AMT5                     27000 non-null float64\n",
      "BILL_AMT6                     27000 non-null float64\n",
      "PAY_AMT1                      27000 non-null float64\n",
      "PAY_AMT2                      27000 non-null float64\n",
      "PAY_AMT3                      27000 non-null float64\n",
      "PAY_AMT4                      27000 non-null float64\n",
      "PAY_AMT5                      27000 non-null float64\n",
      "PAY_AMT6                      27000 non-null float64\n",
      "default.payment.next.month    27000 non-null int64\n",
      "dtypes: float64(13), int64(11)\n",
      "memory usage: 4.9 MB\n"
     ]
    }
   ],
   "source": [
    "pandata = pandas.read_csv('example_data/UCI_Credit_Card.csv')\n",
    "pandata = pandata.drop('ID', axis=1)\n",
    "pandata_test_data_size = int(len(pandata) * .1)\n",
    "pandata_test_data = pandata.tail(pandata_test_data_size)\n",
    "pandata = pandata.head(len(pandata)-pandata_test_data_size)\n",
    "pandata.info()"
   ]
  },
  {
   "cell_type": "code",
   "execution_count": 27,
   "metadata": {
    "collapsed": true
   },
   "outputs": [],
   "source": [
    "#Use to normalize continuous values (X−μ)/σ\n",
    "limitBalMean = np.mean(pandata['LIMIT_BAL'].tolist())\n",
    "limitBalStd = np.std(pandata['LIMIT_BAL'].tolist())\n",
    "\n",
    "ageMean = np.mean(pandata['AGE'].tolist())\n",
    "ageStd = np.std(pandata['AGE'].tolist())\n",
    "\n",
    "pay0Mean = np.mean(pandata['PAY_0'].tolist())\n",
    "pay0Std = np.std(pandata['PAY_0'].tolist())\n",
    "\n",
    "pay2Mean = np.mean(pandata['PAY_2'].tolist())\n",
    "pay2Std = np.std(pandata['PAY_2'].tolist())\n",
    "\n",
    "pay3Mean = np.mean(pandata['PAY_3'].tolist())\n",
    "pay3Std = np.std(pandata['PAY_3'].tolist())\n",
    "\n",
    "pay4Mean = np.mean(pandata['PAY_4'].tolist())\n",
    "pay4Std = np.std(pandata['PAY_4'].tolist())\n",
    "\n",
    "pay5Mean = np.mean(pandata['PAY_5'].tolist())\n",
    "pay5Std = np.std(pandata['PAY_5'].tolist())\n",
    "\n",
    "pay6Mean = np.mean(pandata['PAY_6'].tolist())\n",
    "pay6Std = np.std(pandata['PAY_6'].tolist())\n",
    "\n",
    "billAmt1Mean = np.mean(pandata['BILL_AMT1'].tolist())\n",
    "billAmt1Std = np.std(pandata['BILL_AMT1'].tolist())\n",
    "\n",
    "billAmt2Mean = np.mean(pandata['BILL_AMT2'].tolist())\n",
    "billAmt2Std = np.std(pandata['BILL_AMT2'].tolist())\n",
    "\n",
    "billAmt3Mean = np.mean(pandata['BILL_AMT3'].tolist())\n",
    "billAmt3Std = np.std(pandata['BILL_AMT3'].tolist())\n",
    "\n",
    "billAmt4Mean = np.mean(pandata['BILL_AMT4'].tolist())\n",
    "billAmt4Std = np.std(pandata['BILL_AMT4'].tolist())\n",
    "\n",
    "billAmt5Mean = np.mean(pandata['BILL_AMT5'].tolist())\n",
    "billAmt5Std = np.std(pandata['BILL_AMT5'].tolist())\n",
    "\n",
    "billAmt6Mean = np.mean(pandata['BILL_AMT6'].tolist())\n",
    "billAmt6Std = np.std(pandata['BILL_AMT6'].tolist())\n",
    "\n",
    "payAmt1Mean = np.mean(pandata['PAY_AMT1'].tolist())\n",
    "payAmt1Std = np.std(pandata['PAY_AMT1'].tolist())\n",
    "\n",
    "payAmt2Mean = np.mean(pandata['PAY_AMT2'].tolist())\n",
    "payAmt2Std = np.std(pandata['PAY_AMT2'].tolist())\n",
    "\n",
    "payAmt3Mean = np.mean(pandata['PAY_AMT3'].tolist())\n",
    "payAmt3Std = np.std(pandata['PAY_AMT3'].tolist())\n",
    "\n",
    "payAmt4Mean = np.mean(pandata['PAY_AMT4'].tolist())\n",
    "payAmt4Std = np.std(pandata['PAY_AMT4'].tolist())\n",
    "\n",
    "payAmt5Mean = np.mean(pandata['PAY_AMT5'].tolist())\n",
    "payAmt5Std = np.std(pandata['PAY_AMT5'].tolist())\n",
    "\n",
    "payAmt6Mean = np.mean(pandata['PAY_AMT6'].tolist())\n",
    "payAmt6Std = np.std(pandata['PAY_AMT6'].tolist())"
   ]
  },
  {
   "cell_type": "code",
   "execution_count": 3,
   "metadata": {
    "collapsed": true
   },
   "outputs": [],
   "source": [
    "def convert_data(inputVector):\n",
    "    # LIMIT_BAL                     27000 non-null float64\n",
    "    # SEX                           27000 non-null int64\n",
    "    # EDUCATION                     27000 non-null int64\n",
    "    # MARRIAGE                      27000 non-null int64\n",
    "    # AGE                           27000 non-null int64\n",
    "    # PAY_0                         27000 non-null int64\n",
    "    # PAY_2                         27000 non-null int64\n",
    "    # PAY_3                         27000 non-null int64\n",
    "    # PAY_4                         27000 non-null int64\n",
    "    # PAY_5                         27000 non-null int64\n",
    "    # PAY_6                         27000 non-null int64\n",
    "    # BILL_AMT1                     27000 non-null float64\n",
    "    # BILL_AMT2                     27000 non-null float64\n",
    "    # BILL_AMT3                     27000 non-null float64\n",
    "    # BILL_AMT4                     27000 non-null float64\n",
    "    # BILL_AMT5                     27000 non-null float64\n",
    "    # BILL_AMT6                     27000 non-null float64\n",
    "    # PAY_AMT1                      27000 non-null float64\n",
    "    # PAY_AMT2                      27000 non-null float64\n",
    "    # PAY_AMT3                      27000 non-null float64\n",
    "    # PAY_AMT4                      27000 non-null float64\n",
    "    # PAY_AMT5                      27000 non-null float64\n",
    "    # PAY_AMT6                      27000 non-null float64\n",
    "    # Combine 'other' and 'unknown' values.\n",
    "    if (inputVector[2] > 4):\n",
    "        inputVector[2] = 4\n",
    "    #normalize continuous values X−μ)/σ\n",
    "    inputVector[0] = (inputVector[0] - limitBalMean) / limitBalStd\n",
    "    inputVector[4] = (inputVector[4] - ageMean) / ageStd\n",
    "    inputVector[5] = (inputVector[5] - pay0Mean) / pay0Std\n",
    "    inputVector[6] = (inputVector[6] - pay2Mean) / pay2Std\n",
    "    inputVector[7] = (inputVector[7] - pay3Mean) / pay3Std\n",
    "    inputVector[8] = (inputVector[8] - pay4Mean) / pay4Std\n",
    "    inputVector[9] = (inputVector[9] - pay5Mean) / pay5Std\n",
    "    inputVector[10] = (inputVector[10] - pay6Mean) / pay6Std\n",
    "    inputVector[11] = (inputVector[11] - billAmt1Mean) / billAmt1Std\n",
    "    inputVector[12] = (inputVector[12] - billAmt2Mean) / billAmt2Std\n",
    "    inputVector[13] = (inputVector[13] - billAmt3Mean) / billAmt3Std\n",
    "    inputVector[14] = (inputVector[14] - billAmt4Mean) / billAmt4Std\n",
    "    inputVector[15] = (inputVector[15] - billAmt5Mean) / billAmt5Std\n",
    "    inputVector[16] = (inputVector[16] - billAmt6Mean) / billAmt6Std\n",
    "    inputVector[17] = (inputVector[17] - payAmt1Mean) / payAmt1Std\n",
    "    inputVector[18] = (inputVector[18] - payAmt2Mean) / payAmt2Std\n",
    "    inputVector[19] = (inputVector[19] - payAmt3Mean) / payAmt3Std\n",
    "    inputVector[20] = (inputVector[20] - payAmt4Mean) / payAmt4Std\n",
    "    inputVector[21] = (inputVector[21] - payAmt5Mean) / payAmt5Std\n",
    "    inputVector[22] = (inputVector[22] - payAmt6Mean) / payAmt6Std\n",
    "    return inputVector"
   ]
  },
  {
   "cell_type": "code",
   "execution_count": null,
   "metadata": {},
   "outputs": [],
   "source": [
    "for i, row in pandata.iterrows():\n",
    "    pandata.loc[i] = convert_data(pandata.loc[i])"
   ]
  },
  {
   "cell_type": "code",
   "execution_count": 4,
   "metadata": {
    "collapsed": true
   },
   "outputs": [],
   "source": [
    "model = sn.Model()\n",
    "#Layer(num_inputs, num_neurons)\n",
    "l1 = sn.Layer(23, 1)\n",
    "a1 = sn.Activation('sigmoid')\n",
    "model.add(l1)\n",
    "model.add(a1)\n",
    "model.setLearningRate(0.1)"
   ]
  },
  {
   "cell_type": "code",
   "execution_count": null,
   "metadata": {
    "collapsed": true
   },
   "outputs": [],
   "source": [
    "model.setLearningRate(0.05)"
   ]
  },
  {
   "cell_type": "code",
   "execution_count": null,
   "metadata": {},
   "outputs": [],
   "source": [
    "# Test data\n",
    "print(np.matrix(pandata_test_data.iloc[0].values[None, :23]))\n",
    "print(type(np.matrix(pandata_test_data.iloc[0].values[None, :23])))\n",
    "\n",
    "print(np.matrix([pandata_test_data.iloc[0]]))\n",
    "print(type(np.matrix([pandata_test_data.iloc[0]])))\n",
    "\n",
    "#print(pandata_test_data.loc[j].values[None, :23][0])"
   ]
  },
  {
   "cell_type": "code",
   "execution_count": null,
   "metadata": {},
   "outputs": [],
   "source": [
    "plotError = list()\n",
    "batch = 100\n",
    "#num_tests = iterations * batch\n",
    "#iterations is run-through of each batch, which is part of the entire set\n",
    "#epoch is one run-through of EACH sample\n",
    "for i, row in pandata.iterrows():\n",
    "    train_row = np.matrix(pandata.loc[i].values[None, :23])\n",
    "    default_next_month = np.matrix(pandata.loc[i]['default.payment.next.month'])\n",
    "    model.train(train_row, default_next_month)\n",
    "    print(train_row)\n",
    "    print(default_next_month)\n",
    "    if i % batch == 0:\n",
    "        num_correct = 0\n",
    "        for j, row in pandata_test_data.iterrows():\n",
    "            #print(np.matrix(pandata_test_data.loc[j].values[None, :23][0]))\n",
    "            \n",
    "            r = model.predictStep(np.matrix(pandata_test_data.loc[j].values[None, :23][0]))\n",
    "            #print('r:' + str(r))\n",
    "            #print('actually:' + str(pandata_test_data.loc[j]['default.payment.next.month']))\n",
    "            if r == pandata_test_data.loc[j]['default.payment.next.month']:\n",
    "                num_correct += 1\n",
    "            #print(num_correct)\n",
    "        accuracy = num_correct/len(pandata_test_data)\n",
    "        print('# Correct:' + str(num_correct))\n",
    "        print('Batch ' + str(i / batch) + ' accuracy:' + str(accuracy))\n",
    "        plotError.append(accuracy)"
   ]
  },
  {
   "cell_type": "code",
   "execution_count": null,
   "metadata": {},
   "outputs": [],
   "source": [
    "plt.plot(plotError)\n",
    "plt.show()"
   ]
  },
  {
   "cell_type": "code",
   "execution_count": 26,
   "metadata": {},
   "outputs": [
    {
     "name": "stdout",
     "output_type": "stream",
     "text": [
      "[[ 0.65521355]\n",
      " [ 0.47919486]\n",
      " [ 0.05436008]\n",
      " [ 0.21015581]\n",
      " [ 0.69818667]\n",
      " [ 0.78036917]\n",
      " [ 0.31449949]\n",
      " [ 0.38482461]\n",
      " [ 0.94851438]\n",
      " [ 0.52032423]\n",
      " [ 0.57930065]\n",
      " [ 0.87576045]\n",
      " [ 0.3434434 ]\n",
      " [ 0.07423028]\n",
      " [ 0.96515577]\n",
      " [ 0.85456491]\n",
      " [ 0.13848934]\n",
      " [ 0.16899082]\n",
      " [ 0.64547928]\n",
      " [ 0.64756882]\n",
      " [ 0.89171868]\n",
      " [ 0.8804276 ]\n",
      " [ 0.88842828]\n",
      " [ 0.4707546 ]]\n"
     ]
    }
   ],
   "source": [
    "print(l1.getWeights())"
   ]
  },
  {
   "cell_type": "code",
   "execution_count": 6,
   "metadata": {},
   "outputs": [
    {
     "data": {
      "text/plain": [
       "matrix([[ 1.]])"
      ]
     },
     "execution_count": 6,
     "metadata": {},
     "output_type": "execute_result"
    }
   ],
   "source": [
    "model.feed(np.matrix(pandata_test_data.iloc[0].values[None, :23][0]))"
   ]
  },
  {
   "cell_type": "code",
   "execution_count": 14,
   "metadata": {},
   "outputs": [
    {
     "name": "stdout",
     "output_type": "stream",
     "text": [
      "[[ 243889.0236948]]\n"
     ]
    }
   ],
   "source": [
    "l1out = l1.feed(np.matrix(pandata_test_data.iloc[0].values[None, :23][0]))\n",
    "print(l1out)\n",
    "# print(a1.feed(l1out))"
   ]
  },
  {
   "cell_type": "code",
   "execution_count": 10,
   "metadata": {},
   "outputs": [
    {
     "name": "stdout",
     "output_type": "stream",
     "text": [
      "dE/dOut:  [[ 1.]]\n",
      "dOut/dNet:  [[ 0.]]\n",
      "Updated Weights:  [[ 0.65521355]\n",
      " [ 0.47919486]\n",
      " [ 0.05436008]\n",
      " [ 0.21015581]\n",
      " [ 0.69818667]\n",
      " [ 0.78036917]\n",
      " [ 0.31449949]\n",
      " [ 0.38482461]\n",
      " [ 0.94851438]\n",
      " [ 0.52032423]\n",
      " [ 0.57930065]\n",
      " [ 0.87576045]\n",
      " [ 0.3434434 ]\n",
      " [ 0.07423028]\n",
      " [ 0.96515577]\n",
      " [ 0.85456491]\n",
      " [ 0.13848934]\n",
      " [ 0.16899082]\n",
      " [ 0.64547928]\n",
      " [ 0.64756882]\n",
      " [ 0.89171868]\n",
      " [ 0.8804276 ]\n",
      " [ 0.88842828]\n",
      " [ 0.4707546 ]]\n"
     ]
    },
    {
     "data": {
      "text/plain": [
       "matrix([[ 1.]])"
      ]
     },
     "execution_count": 10,
     "metadata": {},
     "output_type": "execute_result"
    }
   ],
   "source": [
    "train_row = np.matrix(pandata_test_data.iloc[1].values[None, :23][0])\n",
    "default_next_month = pandata.iloc[0]['default.payment.next.month']\n",
    "y = np.matrix('0')\n",
    "model.train(train_row, y)"
   ]
  },
  {
   "cell_type": "code",
   "execution_count": 9,
   "metadata": {},
   "outputs": [
    {
     "name": "stdout",
     "output_type": "stream",
     "text": [
      "[[  5.00000000e+04   1.00000000e+00   2.00000000e+00   1.00000000e+00\n",
      "    4.10000000e+01   0.00000000e+00   0.00000000e+00   0.00000000e+00\n",
      "    0.00000000e+00   0.00000000e+00   0.00000000e+00   8.98800000e+03\n",
      "    6.84900000e+03   7.47100000e+03   8.04300000e+03   1.95260000e+04\n",
      "    7.56400000e+03   1.20000000e+03   2.00000000e+03   2.00000000e+03\n",
      "    3.00000000e+03   1.00000000e+03   1.06400000e+04]]\n"
     ]
    }
   ],
   "source": [
    "print(np.matrix(pandata_test_data.iloc[1].values[None, :23][0]))"
   ]
  },
  {
   "cell_type": "code",
   "execution_count": null,
   "metadata": {},
   "outputs": [],
   "source": [
    "print(y)"
   ]
  },
  {
   "cell_type": "code",
   "execution_count": null,
   "metadata": {
    "collapsed": true
   },
   "outputs": [],
   "source": []
  }
 ],
 "metadata": {
  "kernelspec": {
   "display_name": "Python 3",
   "language": "python",
   "name": "python3"
  },
  "language_info": {
   "codemirror_mode": {
    "name": "ipython",
    "version": 3
   },
   "file_extension": ".py",
   "mimetype": "text/x-python",
   "name": "python",
   "nbconvert_exporter": "python",
   "pygments_lexer": "ipython3",
   "version": "3.5.3"
  }
 },
 "nbformat": 4,
 "nbformat_minor": 2
}
