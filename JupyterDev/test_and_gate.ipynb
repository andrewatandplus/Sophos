{
 "cells": [
  {
   "cell_type": "code",
   "execution_count": 1,
   "metadata": {},
   "outputs": [],
   "source": [
    "import numpy as np\n",
    "import matplotlib.pyplot as plt\n",
    "# Changes imports to look one folder up.\n",
    "import sys, os\n",
    "sys.path.insert(0, os.path.abspath('..'))\n",
    "from Sophos import SophosNet as sn"
   ]
  },
  {
   "cell_type": "code",
   "execution_count": 2,
   "metadata": {},
   "outputs": [],
   "source": [
    "model = sn.Model()\n",
    "l1 = sn.Layer(2, 2)\n",
    "l2 = sn.Layer(2, 1)\n",
    "a1 = sn.Activation('sigmoid')\n",
    "a2 = sn.Activation('sigmoid')\n",
    "model.add(l1)\n",
    "model.add(a1)\n",
    "model.add(l2)\n",
    "model.add(a2)\n",
    "model.setLearningRate(0.1)"
   ]
  },
  {
   "cell_type": "code",
   "execution_count": 22,
   "metadata": {
    "collapsed": true
   },
   "outputs": [],
   "source": [
    "model.setLearningRate(0.0005)"
   ]
  },
  {
   "cell_type": "code",
   "execution_count": 23,
   "metadata": {},
   "outputs": [
    {
     "name": "stdout",
     "output_type": "stream",
     "text": [
      "0.99869\n",
      "0.99838\n",
      "0.99906\n",
      "0.99887\n",
      "0.99857\n",
      "0.99919\n",
      "0.99965\n",
      "0.99812\n",
      "0.99761\n",
      "0.99922\n"
     ]
    }
   ],
   "source": [
    "plotTrueValues = []\n",
    "plotFalseValues = []\n",
    "plotError = list()\n",
    "\n",
    "num_test = 100000\n",
    "\n",
    "# Testing Data\n",
    "test_coords = []\n",
    "test_y = []\n",
    "for i in range(num_test):\n",
    "    test_coord = np.matrix([np.random.normal(1, 10.25), np.random.normal(1, 10.25)])\n",
    "    coord_value = np.abs(test_coord[0, 0] - test_coord[0, 1]) <= 10.25\n",
    "    test_coords.append(test_coord)\n",
    "    test_y.append(coord_value)\n",
    "\n",
    "for i in range(50000):\n",
    "    coord = np.matrix([np.random.normal(1, 10.25), np.random.normal(1, 10.25)])\n",
    "    coordValue = np.abs(coord[0,0] - coord[0,1]) <= 10.25\n",
    "    coordBinary = 1 if coordValue else 0\n",
    "    if (coordValue):\n",
    "        plotTrueValues.append([coord[0, 0], coord[0,1]])\n",
    "    else:\n",
    "        plotFalseValues.append([coord[0, 0], coord[0,1]])\n",
    "    model.train(coord, coordBinary)\n",
    "    # Check Accuracy\n",
    "    correct = 0\n",
    "    #print(i)\n",
    "    if i % 5000 == 0:\n",
    "        for j in range(num_test-1):\n",
    "            a = model.predictStep(test_coords[j])\n",
    "            if a == test_y[j]:\n",
    "                correct += 1\n",
    "        accuracy = correct/num_test\n",
    "        print(accuracy)\n",
    "        plotError.append(accuracy)\n",
    "#     plotError.append(model.getTotalError())\n",
    "#     print(model.getTotalError())\n",
    "    #print(coord)"
   ]
  },
  {
   "cell_type": "code",
   "execution_count": 24,
   "metadata": {},
   "outputs": [
    {
     "data": {
      "image/png": "[encoded data removed]",
      "text/plain": [
       "<matplotlib.figure.Figure at 0x96e2b47c88>"
      ]
     },
     "metadata": {},
     "output_type": "display_data"
    }
   ],
   "source": [
    "plt.plot(plotError)\n",
    "plt.show()"
   ]
  },
  {
   "cell_type": "code",
   "execution_count": null,
   "metadata": {},
   "outputs": [],
   "source": [
    "print(l2.getWeights())"
   ]
  },
  {
   "cell_type": "code",
   "execution_count": null,
   "metadata": {},
   "outputs": [],
   "source": [
    "model.feed(test_coords[3])"
   ]
  },
  {
   "cell_type": "code",
   "execution_count": null,
   "metadata": {
    "collapsed": true
   },
   "outputs": [],
   "source": [
    "# print(plotTrueValues)\n",
    "# x, y = zip(plotTrueValues)\n",
    "plt.scatter([x[0] for x in plotFalseValues], [y[1] for y in plotFalseValues], color='blue')\n",
    "plt.scatter([x[0] for x in plotTrueValues], [y[1] for y in plotTrueValues], color='red')\n",
    "plt.show()"
   ]
  }
 ],
 "metadata": {
  "kernelspec": {
   "display_name": "Python 3",
   "language": "python",
   "name": "python3"
  },
  "language_info": {
   "codemirror_mode": {
    "name": "ipython",
    "version": 3
   },
   "file_extension": ".py",
   "mimetype": "text/x-python",
   "name": "python",
   "nbconvert_exporter": "python",
   "pygments_lexer": "ipython3",
   "version": "3.5.3"
  }
 },
 "nbformat": 4,
 "nbformat_minor": 2
}
