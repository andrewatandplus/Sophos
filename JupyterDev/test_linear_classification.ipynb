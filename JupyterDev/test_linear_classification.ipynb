{
 "cells": [
  {
   "cell_type": "code",
   "execution_count": null,
   "metadata": {
    "collapsed": true
   },
   "outputs": [],
   "source": [
    "import numpy as np\n",
    "# Changes imports to look one folder up.\n",
    "import sys, os\n",
    "sys.path.insert(0, os.path.abspath('..'))\n",
    "from Sophos import SophosNet as sn"
   ]
  },
  {
   "cell_type": "code",
   "execution_count": null,
   "metadata": {
    "collapsed": true
   },
   "outputs": [],
   "source": [
    "# Build Model\n",
    "model = sn.Model()\n",
    "l1 = sn.Layer(2, 1)\n",
    "print(l1.getWeights())\n",
    "activation1 = sn.Activation('sigmoid')\n",
    "model.add(l1)\n",
    "model.add(activation1)\n",
    "model.setLearningRate(0.1)\n",
    "# print(\"Random: \", np.random.rand(2))\n",
    "# Train Model\n",
    "for i in range(10000):\n",
    "# x = np.random.rand(2)\n",
    "\n",
    "    x_input = np.matrix('0 1')\n",
    "    y_input = np.matrix('0')\n",
    "    model.train(x_input, y_input)\n",
    "\n",
    "    x_input = np.matrix('1 0')\n",
    "    y_input = np.matrix('1')\n",
    "    model.train(x_input, y_input)\n",
    "\n",
    "    print(\"Total Error: \", model.getTotalError())\n",
    "print(\"End Weights: \", l1.getWeights())"
   ]
  },
  {
   "cell_type": "code",
   "execution_count": null,
   "metadata": {
    "collapsed": true
   },
   "outputs": [],
   "source": []
  }
 ],
 "metadata": {
  "kernelspec": {
   "display_name": "Python 3",
   "language": "python",
   "name": "python3"
  },
  "language_info": {
   "codemirror_mode": {
    "name": "ipython",
    "version": 3
   },
   "file_extension": ".py",
   "mimetype": "text/x-python",
   "name": "python",
   "nbconvert_exporter": "python",
   "pygments_lexer": "ipython3",
   "version": "3.5.3"
  }
 },
 "nbformat": 4,
 "nbformat_minor": 2
}
